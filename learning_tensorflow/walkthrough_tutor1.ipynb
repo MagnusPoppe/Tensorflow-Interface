{
 "cells": [
  {
   "cell_type": "markdown",
   "metadata": {},
   "source": [
    "# Tutorials i TensorFlow fra Kieth Downing. \n",
    "## Sett 1."
   ]
  },
  {
   "cell_type": "code",
   "execution_count": 4,
   "metadata": {},
   "outputs": [],
   "source": [
    "from downing_code import tflowtools as TFT\n",
    "from downing_code import tutor1, tutor2, tutor3"
   ]
  },
  {
   "cell_type": "markdown",
   "metadata": {},
   "source": [
    "### Tutorial example 1:\n",
    "Lager en multiplikasjon mellom 2 konstanter. Konstanter trenger ikke å initialiseres. Session kan dermed bli kjørt enkelt. Multiplikasjonen blir ikke egentlig utført før kallet til session.run(z)."
   ]
  },
  {
   "cell_type": "code",
   "execution_count": 5,
   "metadata": {},
   "outputs": [
    {
     "data": {
      "text/plain": [
       "10"
      ]
     },
     "execution_count": 5,
     "metadata": {},
     "output_type": "execute_result"
    }
   ],
   "source": [
    "tutor1.tfex1(5, 2)"
   ]
  },
  {
   "cell_type": "markdown",
   "metadata": {},
   "source": [
    "### Tutorial example 2:\n",
    "Dettte eksempelet gjør det samme som tfex1 over, men med variabler istedenfor konstaner. \n",
    "\n",
    "Variabler må initialisers før kallet til session.run(). Variablene får sin verdi tildelt ved kallet til initialize. Det går ikke å gjøre session uten initialiseringen. "
   ]
  },
  {
   "cell_type": "code",
   "execution_count": 6,
   "metadata": {
    "collapsed": true
   },
   "outputs": [
    {
     "data": {
      "text/plain": [
       "10"
      ]
     },
     "execution_count": 6,
     "metadata": {},
     "output_type": "execute_result"
    }
   ],
   "source": [
    "tutor1.tfex2(5, 2)"
   ]
  },
  {
   "cell_type": "markdown",
   "metadata": {},
   "source": [
    "### Tutorial example 3A\n",
    "Eksempelet lager 2 matriser, matrise Y og matrise Y.\n",
    "\n",
    "X er en 2 dimensjonal matrise på 3x5. Den er fylt med tilfeldige verdier mellom 0 og 1.\n",
    "\n",
    "Y er også en 2D matrise men på 5x1. Denne er fylt med tilfeldige verdier mellom 10 og 20.\n",
    "\n",
    "NumPY order uniforme verdier i de forskjellige cellene.\n",
    "\n",
    "tensorflow.matmul(x, y) utfører matrisemultiplikasjon (matmul = matrix multiplication).\n",
    "\n",
    "Verdiene i de to matrisene blir ikke lagt inn før initialiserings kallet gjøres. Det samme gjelder tf.matmul(x,y). Denne er kun operasjonen. "
   ]
  },
  {
   "cell_type": "code",
   "execution_count": 7,
   "metadata": {
    "collapsed": true
   },
   "outputs": [
    {
     "name": "stdout",
     "output_type": "stream",
     "text": [
      "\n\n[ 40.48759673]\n\n[ 35.29452308]\n\n[ 49.41271998]\n\n"
     ]
    }
   ],
   "source": [
    "tutor1.tfex3()"
   ]
  },
  {
   "cell_type": "markdown",
   "metadata": {},
   "source": [
    "### Tutorial example 3B\n",
    "Eksempelet betsår av 3 matriser , W(3x5), X(5x1) og Y(3x1). Det er også 2 operatorer, z1, en matrisemultiplikasjon og z2, en addisjon mellom matriser. \n",
    "\n",
    "Igjen så skjer det ingenting før variablene initialiseres. \n",
    "\n",
    "Her blir det også sendt med 3 operatorer inn i quickrun, som en liste. Dette gjør at det blir skrevet ut alle tre operatorene. hver av disse kjøres også gjennom session.run()."
   ]
  },
  {
   "cell_type": "code",
   "execution_count": 8,
   "metadata": {
    "collapsed": true
   },
   "outputs": [
    {
     "name": "stdout",
     "output_type": "stream",
     "text": [
      "\n\n[[ 0.10782957  0.32705452  0.57206471  0.4157103   0.40126836]\n [ 0.96168961  0.59483119  0.74948806  0.78850152  0.16620475]\n [ 0.66478402  0.72498625  0.22955924  0.7911757   0.45349228]]\n\n[[ 26.89950058]\n [ 49.80417922]\n [ 46.06511057]]\n\n[[ 135.00792394]\n [ 149.83415197]\n [ 148.96270713]]\n\n"
     ]
    }
   ],
   "source": [
    "tutor1.tfex3b()"
   ]
  },
  {
   "cell_type": "markdown",
   "metadata": {},
   "source": [
    "### Tutorial example 4\n",
    "Dette eksempelet dreier se gom å sette verdier til variabler. Her skjer det et par interessante ting. \n",
    "\n",
    "1. X2 settes til X1 sin verdi når X1 har blitt tildelt en verdi i realtime. tf.Variable().initialized_value() returnerer verdien en gitt variabel har på et gitt punkt i tid. Siden variabler alltid endrer verdier ettersom tensorflow kjører er dette en viktig funksjon. Det er slik man gir en variabel verdien til en annen variabel.\n",
    "2. Assign setter en ny verdi til denne variabelen. Dette betyr at verdien X2 hadde når x.initialized_value() ble kalt blir overskrevet med en gang. Assignen inneholder også en matrise addisjon."
   ]
  },
  {
   "cell_type": "code",
   "execution_count": 9,
   "metadata": {
    "collapsed": true
   },
   "outputs": [
    {
     "name": "stdout",
     "output_type": "stream",
     "text": [
      "\n\n[[ 1.98017449]\n [ 1.96955862]\n [ 1.99406271]\n [ 1.95251904]\n [ 1.51257896]]\n\n[[ 174.18319134]\n [ 114.80679004]\n [ 126.19183323]\n [ 115.50318934]\n [ 167.89845928]]\n\n"
     ]
    }
   ],
   "source": [
    "tutor1.tfex4()"
   ]
  },
  {
   "cell_type": "markdown",
   "metadata": {},
   "source": [
    "# Tutorial example 5A & 5B\n",
    "Begge disse eksemplene går ut på å vise tensorboard. Operasjoenene utenom er sett over. "
   ]
  },
  {
   "cell_type": "code",
   "execution_count": 10,
   "metadata": {
    "collapsed": true
   },
   "outputs": [
    {
     "name": "stdout",
     "output_type": "stream",
     "text": [
      "\nThe Grabbed Variables:\n   w_1:0 = \n[[ 0.09494211  0.80153541  0.22224935  0.96327589  0.69641866]\n [ 0.4651889   0.52184183  0.42282076  0.20210238  0.24492455]\n [ 0.85547655  0.58571107  0.4512256   0.57537123  0.53386867]]\n\n   x_4:0 = \n[[ 15.51427153]\n [ 10.48710967]\n [ 10.44766275]\n [ 12.53000115]\n [ 18.45508953]]\n\n   y_3:0 = \n[[ 103.65681211]\n [ 109.01125901]\n [ 103.69076052]]\n\n"
     ]
    },
    {
     "data": {
      "text/plain": [
       "[[array([[ 140.77986262],\n         [ 133.17087469],\n         [ 144.88152138]])],\n [array([[ 0.09494211,  0.80153541,  0.22224935,  0.96327589,  0.69641866],\n         [ 0.4651889 ,  0.52184183,  0.42282076,  0.20210238,  0.24492455],\n         [ 0.85547655,  0.58571107,  0.4512256 ,  0.57537123,  0.53386867]]),\n  array([[ 15.51427153],\n         [ 10.48710967],\n         [ 10.44766275],\n         [ 12.53000115],\n         [ 18.45508953]]),\n  array([[ 103.65681211],\n         [ 109.01125901],\n         [ 103.69076052]])]]"
      ]
     },
     "execution_count": 10,
     "metadata": {},
     "output_type": "execute_result"
    }
   ],
   "source": [
    "tutor1.tfex5()"
   ]
  },
  {
   "cell_type": "code",
   "execution_count": 11,
   "metadata": {
    "collapsed": true
   },
   "outputs": [
    {
     "name": "stdout",
     "output_type": "stream",
     "text": [
      "\nThe Grabbed Variables:\n   w_2:0 = \n[[ 0.27090277  0.29241413  0.00243818  0.39741185  0.62296667]\n [ 0.83693053  0.61621657  0.40947671  0.45224458  0.79062329]\n [ 0.13899314  0.37016068  0.40986681  0.45694333  0.65075161]]\n\n   x_5:0 = \n[[ 14.96509649]\n [ 16.91849248]\n [ 12.96340038]\n [ 14.64321473]\n [ 19.14481724]]\n\n   y_4:0 = \n[[ 103.83018967]\n [ 104.73537212]\n [ 108.66782467]]\n\n"
     ]
    },
    {
     "data": {
      "text/plain": [
       "[[array([[ 130.60905933],\n         [ 154.75243722],\n         [ 141.47333867]])],\n [array([[ 0.27090277,  0.29241413,  0.00243818,  0.39741185,  0.62296667],\n         [ 0.83693053,  0.61621657,  0.40947671,  0.45224458,  0.79062329],\n         [ 0.13899314,  0.37016068,  0.40986681,  0.45694333,  0.65075161]]),\n  array([[ 14.96509649],\n         [ 16.91849248],\n         [ 12.96340038],\n         [ 14.64321473],\n         [ 19.14481724]]),\n  array([[ 103.83018967],\n         [ 104.73537212],\n         [ 108.66782467]])]]"
      ]
     },
     "execution_count": 11,
     "metadata": {},
     "output_type": "execute_result"
    }
   ],
   "source": [
    "tutor1.tfex5b()"
   ]
  },
  {
   "cell_type": "markdown",
   "metadata": {},
   "source": [
    "# Tutorial example 6\n",
    "Her introduseres feeder dict. En feeder dict mater inn verdier inn i en placeholder. Hver placeholder som er nevnt i feeder_dicten blir matet med alle sine verdier når dette kjøres."
   ]
  },
  {
   "cell_type": "code",
   "execution_count": 12,
   "metadata": {
    "collapsed": true
   },
   "outputs": [
    {
     "name": "stdout",
     "output_type": "stream",
     "text": [
      "\nThe Grabbed Variables:\n   w_3:0 = \n[[ 0.77459085  0.71113     0.14074383  0.2421748   0.60901548]\n [ 0.78568897  0.86122135  0.69745381  0.09849245  0.5722122 ]\n [ 0.87084647  0.82542727  0.71755678  0.93017819  0.5949564 ]]\n\n   x_6:0 = \n[[ 16.82742871]\n [ 18.16554547]\n [ 17.18521572]\n [ 17.55671268]\n [ 13.57274318]]\n\n   y_5:0 = \n[[ 100.19108088]\n [ 104.99475504]\n [ 103.72976187]]\n\n"
     ]
    },
    {
     "data": {
      "text/plain": [
       "[[array([[ 141.08003465],\n         [ 155.34202296],\n         [ 170.11563529]])],\n [array([[ 0.77459085,  0.71113   ,  0.14074383,  0.2421748 ,  0.60901548],\n         [ 0.78568897,  0.86122135,  0.69745381,  0.09849245,  0.5722122 ],\n         [ 0.87084647,  0.82542727,  0.71755678,  0.93017819,  0.5949564 ]]),\n  array([[ 16.82742871],\n         [ 18.16554547],\n         [ 17.18521572],\n         [ 17.55671268],\n         [ 13.57274318]]),\n  array([[ 100.19108088],\n         [ 104.99475504],\n         [ 103.72976187]])]]"
      ]
     },
     "execution_count": 12,
     "metadata": {},
     "output_type": "execute_result"
    }
   ],
   "source": [
    "tutor1.tfex6()"
   ]
  },
  {
   "cell_type": "markdown",
   "metadata": {},
   "source": [
    "# Tutorial example 7\n",
    "Her er feed dict i bruk sammen med en løkke. Operasjonen som utføres hver gang run blir kalt er \"update x\". Denne gir x verdien til en matrisemultiplikasjon + y. Dette gjøres for alle verdier i feed_dict for hver kjøring. \n",
    "\n",
    "En annen ting å merke seg her er at dette er interasksjonen mellom et input (x) variabel, et hidden layer (w=weights) og en output variabel (y).\n",
    "\n",
    "Utføringen av dette ser slik ut: \n",
    "\n",
    "![alt text](https://github.com/MagnusPoppe/Tensorflow-Interface/blob/master/2-node%20Modell.png?raw=true)"
   ]
  },
  {
   "cell_type": "code",
   "execution_count": 13,
   "metadata": {
    "collapsed": false
   },
   "outputs": [
    {
     "name": "stdout",
     "output_type": "stream",
     "text": [
      "\nThe Grabbed Variables:\n   w_4:0 = \n[[-0.86906595  0.54851945 -0.49234434 -0.28332654 -0.46909684]\n [ 0.60414665 -0.97105523 -0.58480128 -0.71564369 -0.04107422]\n [-0.02743276  0.17649912  0.67898698  0.629081   -0.39560579]\n [ 0.52976089 -0.30607793 -0.36786676  0.975292   -0.9586892 ]\n [-0.1466779  -0.69784339  0.78346533  0.86488749 -0.60860178]]\n\n   x_7:0 = \n[[ 0.35378469  0.81674996 -0.15478813 -0.14378975  0.82110429]]\n\n   y_6:0 = \n[[ 0.35378469  0.81674996 -0.15478813 -0.14378975  0.82110429]]\n\n\nThe Grabbed Variables:\n   x_7:0 = \n[[ 0.34739344 -0.33861287 -0.21550536 -0.35597673  0.32095687]]\n\n\nThe Grabbed Variables:\n   x_7:0 = \n[[-0.38244287  1.1830563   0.10828117 -0.20504936  0.90324268]]\n\n\nThe Grabbed Variables:\n   x_7:0 = \n[[ 1.15680894 -1.09028972  0.19826428 -0.2327424   0.55594077]]\n\n\nThe Grabbed Variables:\n   x_7:0 = \n[[-1.52053443  2.22828489  0.56906372  0.68727325  0.12957825]]\n\n\nThe Grabbed Variables:\n   x_7:0 = \n[[ 3.35091347 -2.3814257  -0.47418352 -0.16729013  0.47998922]]\n\n"
     ]
    }
   ],
   "source": [
    "tutor1.tfex7()"
   ]
  },
  {
   "cell_type": "markdown",
   "metadata": {},
   "source": [
    "# Tutorial example 8\n",
    "Vi har nå kommet så langt at vi kan se læring. \n",
    "\n",
    "Eksempel 8 er en case der vi har et nett bestående av: \n",
    "```\n",
    "input x\n",
    "hidden-layer w\t\t\t\n",
    "bias b\n",
    "output y\n",
    "```\n",
    "Disse komponentene er hele det neurale nettet i denne oppgaven. Altså, tre lag. Biasen vil ha en konstant effekt på output. \n",
    "\n",
    "Matrisene regnes sammen inni operatoren y. Her gjøres det først en matrisemultiplikasjon mellom input og vekter (x * w). Det legges så til en bias som skal ha en fast effekt på resultatet. Resultatet legges i matrisen y. \n",
    "\n",
    "Læringselementet i denne funksjonen kommer gjennom:\n",
    "\n",
    "```\n",
    "tf.sigmoid().\n",
    "```\n",
    "\n",
    "Sigmoid funksjonen er en av flere backpropagation metoder som kan brukes for å trene vektene som er gitt til det hemmelige laget. \n",
    "\n",
    "Loss funksjonen er også gitt i denne funksjonen. En loss funksjon eller error funksjon er det vektene trenes etter. Et enkelt resultat som sier hvor bra resultat det neurale nettet fikk. Loss brukes også til å i backpropogation. "
   ]
  },
  {
   "cell_type": "code",
   "execution_count": 14,
   "metadata": {},
   "outputs": [
    {
     "name": "stdout",
     "output_type": "stream",
     "text": [
      "\nThe Grabbed Variables:\n   weights:0 = \n[[-0.05990996 -0.00056896  0.08724981 -0.01101251  0.07461673]\n [-0.01892754 -0.03178629  0.07173889 -0.05957988  0.03890719]\n [-0.08067876  0.06724771 -0.09165038  0.07324039  0.00986968]\n [ 0.06159536 -0.00364689 -0.06545198 -0.09179362  0.00086974]\n [ 0.0623184   0.01865362 -0.00120463  0.01522069 -0.04879063]]\n\n   bias:0 = \n[[ 0.02507555  0.02593815  0.02363147  0.02616769  0.02510912]]\n\n   out-sigmoid:0 = \n[[ 0.49848441  0.48044203  0.52608103  0.47537356  0.49780791]]\n\n\nThe Grabbed Variables:\n   weights:0 = \n[[ 0.01372865  0.07615495  0.15607791  0.06656794  0.14837196]\n [ 0.15172572  0.14601698  0.23124407  0.12020839  0.20983072]\n [-0.17098744 -0.02684472 -0.17605957 -0.02190249 -0.08058203]\n [ 0.03566558 -0.03066308 -0.08968788 -0.11911142 -0.0251011 ]\n [ 0.18589894  0.14741192  0.11430289  0.14541645  0.07498563]]\n\n   bias:0 = \n[[ 0.23459783  0.24423897  0.21946653  0.24690563  0.23496323]]\n\n   out-sigmoid:0 = \n[[ 0.62257738  0.61039175  0.640706    0.6069117   0.62212575]]\n\n\nThe Grabbed Variables:\n   weights:0 = \n[[ 0.06522725  0.12986579  0.20428231  0.12090998  0.1999526 ]\n [ 0.27107079  0.27048878  0.34295499  0.24614296  0.3293659 ]\n [-0.23414414 -0.09271445 -0.23517632 -0.0885463  -0.14383933]\n [ 0.01753179 -0.04957585 -0.10666171 -0.13824645 -0.04326379]\n [ 0.27232406  0.23754961  0.19519965  0.23661343  0.16154841]]\n\n   bias:0 = \n[[ 0.38112565  0.39706122  0.3566214   0.40152382  0.38172447]]\n\n   out-sigmoid:0 = \n[[ 0.70162027  0.69399488  0.71300288  0.69181886  0.70133739]]\n\n\nThe Grabbed Variables:\n   weights:0 = \n[[ 0.10240913  0.16841817  0.23942676  0.15985417  0.23718525]\n [ 0.35723767  0.35983171  0.42440025  0.33639389  0.41565043]\n [-0.27974313 -0.1399942  -0.27827666 -0.13630656 -0.18950059]\n [ 0.00443922 -0.063151   -0.11903685 -0.15195956 -0.05637422]\n [ 0.3347228   0.30224834  0.25417918  0.30196969  0.22403236]]\n\n   bias:0 = \n[[ 0.48691842  0.50675345  0.45661713  0.51233085  0.48766169]]\n\n   out-sigmoid:0 = \n[[ 0.75207935  0.74708522  0.75960622  0.74566666  0.75189342]]\n\n\nThe Grabbed Variables:\n   weights:0 = \n[[ 0.13066626  0.19754393  0.26638265  0.18922738  0.26547464]\n [ 0.42272193  0.427329    0.48686898  0.40446462  0.48120947]\n [-0.31439702 -0.17571335 -0.31133474 -0.17232918 -0.22419404]\n [-0.00551073 -0.07340682 -0.12852861 -0.16230251 -0.06633554]\n [ 0.38214399  0.35112728  0.29941664  0.3512639   0.2715077 ]]\n\n   bias:0 = \n[[ 0.56731779  0.58962432  0.53331412  0.59590578  0.56815286]]\n\n   out-sigmoid:0 = \n[[ 0.78622997  0.78275105  0.79152029  0.78176729  0.78610001]]\n\n"
     ]
    }
   ],
   "source": [
    "tutor1.tfex8()"
   ]
  },
  {
   "cell_type": "code",
   "execution_count": null,
   "metadata": {},
   "outputs": [],
   "source": [
    ""
   ]
  }
 ],
 "metadata": {
  "kernelspec": {
   "display_name": "Python 2",
   "language": "python",
   "name": "python2"
  },
  "language_info": {
   "codemirror_mode": {
    "name": "ipython",
    "version": 2.0
   },
   "file_extension": ".py",
   "mimetype": "text/x-python",
   "name": "python",
   "nbconvert_exporter": "python",
   "pygments_lexer": "ipython2",
   "version": "2.7.6"
  }
 },
 "nbformat": 4,
 "nbformat_minor": 0
}