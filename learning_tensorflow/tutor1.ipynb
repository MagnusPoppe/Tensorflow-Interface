{
 "cells": [
  {
   "cell_type": "markdown",
   "metadata": {
    "collapsed": true
   },
   "source": [
    "# A little Tensorflow tutorial"
   ]
  },
  {
   "cell_type": "code",
   "execution_count": 1,
   "metadata": {},
   "outputs": [
    {
     "ename": "ImportError",
     "evalue": "No module named 'tflowtools'",
     "traceback": [
      "\u001b[0;31m---------------------------------------------------------------------------\u001b[0m",
      "\u001b[0;31mImportError\u001b[0m                               Traceback (most recent call last)",
      "\u001b[0;32m<ipython-input-1-464b1dbfa2ae>\u001b[0m in \u001b[0;36m<module>\u001b[0;34m()\u001b[0m\n\u001b[1;32m      1\u001b[0m \u001b[0;32mimport\u001b[0m \u001b[0mtensorflow\u001b[0m \u001b[0;32mas\u001b[0m \u001b[0mtf\u001b[0m\u001b[0;34m\u001b[0m\u001b[0m\n\u001b[1;32m      2\u001b[0m \u001b[0;32mimport\u001b[0m \u001b[0mnumpy\u001b[0m \u001b[0;32mas\u001b[0m \u001b[0mnp\u001b[0m\u001b[0;34m\u001b[0m\u001b[0m\n\u001b[0;32m----> 3\u001b[0;31m \u001b[0;32mimport\u001b[0m \u001b[0mtflowtools\u001b[0m\u001b[0;34m\u001b[0m\u001b[0m\n\u001b[0m",
      "\u001b[0;31mImportError\u001b[0m: No module named 'tflowtools'"
     ],
     "output_type": "error"
    }
   ],
   "source": [
    "import tensorflow as tf\n",
    "import numpy as np\n",
    "import tflowtools"
   ]
  },
  {
   "cell_type": "code",
   "execution_count": 18,
   "metadata": {},
   "outputs": [],
   "source": [
    "def tfex1(a,b):\n",
    "    x = tf.constant(a)  # Scalar constant variables\n",
    "    y = tf.constant(b)\n",
    "    z = x * y           # As the product of variables, z is automatically declared as a multiplication OPERATOR\n",
    "    sess = tf.Session()  # open a new session\n",
    "    result = sess.run(z)  # Run the operator z and return the value of x * y\n",
    "    sess.close()  # Explicitly close the session to release memory resources.  No danger if omitted.\n",
    "    return result"
   ]
  },
  {
   "cell_type": "code",
   "execution_count": 19,
   "metadata": {},
   "outputs": [],
   "source": [
    "def tfex2(a,b):\n",
    "    x = tf.Variable(a,name='x')  # Now it's a variable with an initial value (a) and name\n",
    "    y = tf.Variable(b,name='y')\n",
    "    z = x*y  # Create operator z\n",
    "    sess = tf.Session()\n",
    "    sess.run(x.initializer)  # All variables at the leaves of a function graph must be initialized\n",
    "    sess.run(y.initializer)  # or fed values from outside (via the \"init_dict\" given to \"run\")\n",
    "    result = sess.run(z)\n",
    "    sess.close()\n",
    "    return result"
   ]
  },
  {
   "cell_type": "code",
   "execution_count": 20,
   "metadata": {},
   "outputs": [],
   "source": [
    "def tfex2b(a,b):\n",
    "    x = tf.Variable(a,name='x')  # Now it's a variable with an initial value (a) and name\n",
    "    y = tf.Variable(b,name='y')\n",
    "    z = x*y  # Create operator z\n",
    "    sess = tf.Session()\n",
    "    sess.run(tf.global_variables_initializer())  # quick way to init all variables\n",
    "    result = sess.run(z)\n",
    "    sess.close()\n",
    "    return result"
   ]
  },
  {
   "cell_type": "code",
   "execution_count": 21,
   "metadata": {},
   "outputs": [],
   "source": [
    "# Consolidate this session-running into a simple function.  'operators' can be a single operator or a list of ops.\n",
    "def quickrun(operators):\n",
    "    sess = tf.Session()\n",
    "    sess.run(tf.global_variables_initializer())\n",
    "    result = sess.run(operators) # result = a list of output values, one from each operator.\n",
    "    sess.close()\n",
    "    TFT.showvars(result)"
   ]
  },
  {
   "cell_type": "code",
   "execution_count": 22,
   "metadata": {},
   "outputs": [],
   "source": [
    "# Now we'll work with matrices and vectors.\n",
    "def tfex3():\n",
    "    x = tf.Variable(np.random.uniform(0,1,size=(3,5)),name='x')  # Init as a matrix\n",
    "    y = tf.Variable(np.random.uniform(10,20,size=(5,1)),name='y') # Init as a column vector\n",
    "    z = tf.matmul(x,y)   # z = matrix multiplication, yielding a (3,1) column vector\n",
    "    return quickrun(z)"
   ]
  },
  {
   "cell_type": "code",
   "execution_count": 23,
   "metadata": {},
   "outputs": [],
   "source": [
    "# This sends several operators to quickrun, each of which returns a value from sess.run\n",
    "def tfex3b():\n",
    "    w = tf.Variable(np.random.uniform(0,1,size=(3,5)),name='w')  # Init as a matrix\n",
    "    x = tf.Variable(np.random.uniform(10,20,size=(5,1)),name='x') # Init as a 5x1 column vector\n",
    "    y = tf.Variable(np.random.uniform(100,110,size=(3,1)),name='y') # Init as a 3x1 column vector\n",
    "    z1 = tf.matmul(w,x)   # z1 = matrix multiplication, yielding a (3,1) column vector\n",
    "    z2 = z1 + y\n",
    "    return quickrun([w,z1,z2])"
   ]
  },
  {
   "cell_type": "code",
   "execution_count": 24,
   "metadata": {},
   "outputs": [],
   "source": [
    "# Variable assignment as an explicit operation.\n",
    "def tfex4():\n",
    "    x = tf.Variable(np.random.uniform(1, 2, size=(5, 1)), name='x')\n",
    "    x2 = tf.Variable(x.initialized_value())  # Only doing x2 = x would NOT do the copying.\n",
    "    x2 = x2.assign(x + np.random.uniform(100,200,size=(5,1)))\n",
    "    return quickrun([x,x2])"
   ]
  },
  {
   "cell_type": "code",
   "execution_count": 26,
   "metadata": {},
   "outputs": [],
   "source": [
    "def quickrun2(operators, grabbed_vars = None, dir='probeview'):\n",
    "    sess = tf.Session()\n",
    "    probe_stream = TFT.viewprep(sess,dir=dir)\n",
    "    sess.run(tf.global_variables_initializer())\n",
    "    results = sess.run([operators,grabbed_vars])  # result = a list of output values, one from each operator.\n",
    "    sess.close()\n",
    "    TFT.show_results(results[1],grabbed_vars,dir)\n",
    "    return results"
   ]
  },
  {
   "cell_type": "code",
   "execution_count": 27,
   "metadata": {},
   "outputs": [],
   "source": [
    "def tfex5():\n",
    "    w = tf.Variable(np.random.uniform(0,1,size=(3,5)),name='w')  # Init as a matrix\n",
    "    x = tf.Variable(np.random.uniform(10,20,size=(5,1)),name='x') # Init as a 5x1 column vector\n",
    "    y = tf.Variable(np.random.uniform(100,110,size=(3,1)),name='y') # Init as a 3x1 column vector\n",
    "    z = tf.matmul(w,x) + y\n",
    "    return quickrun2([z],[w,x,y])"
   ]
  },
  {
   "cell_type": "code",
   "execution_count": 28,
   "metadata": {},
   "outputs": [],
   "source": [
    "def tfex5b():\n",
    "    w = tf.Variable(np.random.uniform(0,1,size=(3,5)),name='w')  # Init as a matrix\n",
    "    x = tf.Variable(np.random.uniform(10,20,size=(5,1)),name='x') # Init as a 5x1 column vector\n",
    "    y = tf.Variable(np.random.uniform(100,110,size=(3,1)),name='y') # Init as a 3x1 column vector\n",
    "    z = tf.add(tf.matmul(w,x),y, name=\"mult-and-add\")\n",
    "    return quickrun2([z],[w,x,y])"
   ]
  },
  {
   "cell_type": "markdown",
   "metadata": {},
   "source": [
    "Feeding the run with external inputs via a placeholder and feed_dict argument to session.run.  This comes in handy a little later, when we initialize some parameters once but then feed in values to placeholders many times during the course of a run."
   ]
  },
  {
   "cell_type": "code",
   "execution_count": 29,
   "metadata": {},
   "outputs": [],
   "source": [
    "def quickrun3(operators, grabbed_vars = None, dir='probeview', feed_dict=None):\n",
    "    sess = tf.Session()\n",
    "    probe_stream = TFT.viewprep(sess,dir=dir)\n",
    "    sess.run(tf.global_variables_initializer())\n",
    "    results = sess.run([operators,grabbed_vars],feed_dict=feed_dict)\n",
    "    sess.close()\n",
    "    TFT.show_results(results[1], grabbed_vars, dir)\n",
    "    return results"
   ]
  },
  {
   "cell_type": "code",
   "execution_count": 30,
   "metadata": {},
   "outputs": [],
   "source": [
    "def tfex6():\n",
    "    x = tf.placeholder(tf.float64,shape=(5,1),name='x')  # shape = None => accepts any shaped tensor\n",
    "    y = tf.placeholder(tf.float64, shape=(3, 1),name='y')\n",
    "    w = tf.Variable(np.random.uniform(0, 1, size=(3, 5)), name='w')  # Same matrix as before\n",
    "    z = tf.matmul(w,x) + y\n",
    "    # feed dictionary specifies the input values for the placeholders (x and y) to be used during session.run\n",
    "    feeder = {x: np.random.uniform(10,20,size=(5,1)), y: np.random.uniform(100,110,size=(3,1))}\n",
    "    # Now, only w gets initialized via its initializer; x and y get set by the feed dictionary.\n",
    "    return quickrun3([z],[w,x,y],feed_dict=feeder)"
   ]
  },
  {
   "cell_type": "markdown",
   "metadata": {},
   "source": [
    "Enhancing quickrun to handle a pre-opened session as an argument and to return the session.\n",
    "\n",
    "Legger til session slik at man kan kjøre mange forskejllige caser på samme session. Dette er slik man gjør det om man skal bruke et neuralt nett. "
   ]
  },
  {
   "cell_type": "code",
   "execution_count": 37,
   "metadata": {},
   "outputs": [],
   "source": [
    "def quickrun4(operators, grabbed_vars = None, dir='probeview',\n",
    "              session=None, feed_dict=None,step=1,show_interval=1):\n",
    "    sess = session if session else TFT.gen_initialized_session(dir=dir)\n",
    "\n",
    "    results = sess.run([operators,grabbed_vars],feed_dict=feed_dict)\n",
    "    if (show_interval and step % show_interval) == 0:\n",
    "        TFT.show_results(results[1], grabbed_vars, dir)\n",
    "    return results[0],results[1], sess"
   ]
  },
  {
   "cell_type": "markdown",
   "metadata": {},
   "source": [
    "Use quickrun4 to call session.run several times in a loop, each time updating var x, while var y, a placeholder is set externally (via feed_dict) but to the same value on each call to session.run."
   ]
  },
  {
   "cell_type": "code",
   "execution_count": 34,
   "metadata": {},
   "outputs": [],
   "source": [
    "def tfex7(n=5):\n",
    "    w = tf.Variable(np.random.uniform(-1, 1, size=(5,5)), name='w')  # Same matrix as before\n",
    "    x = tf.Variable(np.zeros((1,5)),name='x')\n",
    "    y = tf.placeholder(tf.float64,shape=(1,5),name='y')\n",
    "    feeder = {y: np.random.uniform(-1,1, size=(1, 5))}\n",
    "    update_x = x.assign(tf.matmul(x,w) + y)\n",
    "    _,_,sess = quickrun4([update_x],[w,x,y],feed_dict=feeder)\n",
    "    for step in range(n):\n",
    "        quickrun4([update_x],[x],session=sess,feed_dict=feeder)\n",
    "    TFT.close_session(sess)"
   ]
  },
  {
   "cell_type": "markdown",
   "metadata": {},
   "source": [
    "Now we have the tools to run a gradient-descent optimizer, the heart of supervised neural networks."
   ]
  },
  {
   "cell_type": "code",
   "execution_count": 36,
   "metadata": {},
   "outputs": [],
   "source": [
    "def tfex8(size=5, steps=50, tvect=None,learning_rate = 0.5,showint=10):\n",
    "    target = tvect if tvect else np.ones((1,size))\n",
    "    w = tf.Variable(np.random.uniform(-.1, .1, size=(size, size)), name='weights') # weights applied to x.\n",
    "    b = tf.Variable(np.zeros((1, size)), name='bias')  # bias terms\n",
    "    x = tf.placeholder(tf.float64, shape=(1, size), name='input')\n",
    "    y = tf.sigmoid(tf.matmul(x,w) + b,name='out-sigmoid')  # Gather all weighted inputs, then apply activation function\n",
    "    \n",
    "    error = tf.reduce_mean(tf.square(target - y))\n",
    "    optimizer = tf.train.GradientDescentOptimizer(learning_rate)\n",
    "    training_operator = optimizer.minimize(error)\n",
    "    \n",
    "    feeder = {x: np.random.uniform(-1,1, size=(1, size))}\n",
    "    sess = TFT.gen_initialized_session()\n",
    "    \n",
    "    for step in range(steps):\n",
    "        quickrun4([training_operator],[w,b,y],session=sess,feed_dict=feeder,step=step,show_interval=showint)\n",
    "    TFT.close_session(sess)"
   ]
  },
  {
   "cell_type": "code",
   "execution_count": null,
   "metadata": {},
   "outputs": [],
   "source": [
    ""
   ]
  }
 ],
 "metadata": {
  "kernelspec": {
   "display_name": "Python 2",
   "language": "python",
   "name": "python2"
  },
  "language_info": {
   "codemirror_mode": {
    "name": "ipython",
    "version": 2.0
   },
   "file_extension": ".py",
   "mimetype": "text/x-python",
   "name": "python",
   "nbconvert_exporter": "python",
   "pygments_lexer": "ipython2",
   "version": "2.7.6"
  }
 },
 "nbformat": 4,
 "nbformat_minor": 0
}