{
 "cells": [
  {
   "cell_type": "markdown",
   "metadata": {
    "collapsed": true
   },
   "source": [
    "# The functions in this file are used to generate datasets for machine-learning problems.\n"
   ]
  },
  {
   "cell_type": "code",
   "execution_count": 2,
   "metadata": {},
   "outputs": [],
   "source": [
    "import tensorflow as tf\n",
    "import numpy as np\n",
    "import copy\n",
    "import os  # For starting up tensorboard from inside python\n",
    "import matplotlib.pyplot as PLT\n",
    "import scipy.cluster.hierarchy as SCH  # Needed for dendrograms\n",
    "import numpy.random as NPR"
   ]
  },
  {
   "cell_type": "markdown",
   "metadata": {},
   "source": [
    "## SESSION HANDLING"
   ]
  },
  {
   "cell_type": "code",
   "execution_count": null,
   "metadata": {},
   "outputs": [],
   "source": [
    "def gen_initialized_session(dir='probeview'):\n",
    "    sess = tf.Session()\n",
    "    sess.probe_stream = viewprep(sess,dir=dir)  # Create a probe stream and attach to the session\n",
    "    sess.viewdir = dir  # add a second slot, viewdir, to the session\n",
    "    sess.run(tf.global_variables_initializer())\n",
    "    return sess"
   ]
  },
  {
   "cell_type": "markdown",
   "metadata": {},
   "source": [
    ""
   ]
  },
  {
   "cell_type": "code",
   "execution_count": null,
   "metadata": {},
   "outputs": [],
   "source": [
    "def copy_session(sess1):\n",
    "    sess2 = tf.Session()\n",
    "    sess2.probe_stream = sess1.probe_stream\n",
    "    sess2.probe_stream.reopen()\n",
    "    sess2.viewdir = sess1.viewdir\n",
    "    return sess2"
   ]
  },
  {
   "cell_type": "markdown",
   "metadata": {},
   "source": [
    ""
   ]
  },
  {
   "cell_type": "code",
   "execution_count": null,
   "metadata": {},
   "outputs": [],
   "source": [
    "# Simple evaluator of a TF operator.\n",
    "def tfeval(operators):\n",
    "    sess = tf.Session()\n",
    "    sess.run(tf.global_variables_initializer())\n",
    "    result = sess.run(operators) # result = a list of output values, one from each operator.\n",
    "    sess.close()\n",
    "    return result"
   ]
  },
  {
   "cell_type": "markdown",
   "metadata": {},
   "source": [
    ""
   ]
  },
  {
   "cell_type": "markdown",
   "metadata": {},
   "source": [
    "# TENSORBOARD SUPPORT"
   ]
  },
  {
   "cell_type": "markdown",
   "metadata": {},
   "source": [
    ""
   ]
  },
  {
   "cell_type": "code",
   "execution_count": null,
   "metadata": {},
   "outputs": [],
   "source": [
    "# This creates the main data for tensorboard viewing: the graph and variable histories.\n",
    "def viewprep(session, dir='probeview',flush=120,queue=10):\n",
    "    clear_tensorflow_log(dir)  # Without this, the directory fills up with unusable files\n",
    "    return tf.summary.FileWriter(dir,session.graph,flush_secs=flush,max_queue=queue)"
   ]
  },
  {
   "cell_type": "markdown",
   "metadata": {},
   "source": [
    "To view probes, the function graph, etc., do this at the command line:\n",
    "\t$ tensorboard --logdir=probeview\n",
    "Then open a Chrome browser and go to site:  localhost:6006\n"
   ]
  },
  {
   "cell_type": "markdown",
   "metadata": {},
   "source": [
    ""
   ]
  },
  {
   "cell_type": "code",
   "execution_count": null,
   "metadata": {},
   "outputs": [],
   "source": [
    "def gen_segmented_vector_cases(vectorlen,count,minsegs,maxsegs,poptargs=True):\n",
    "    cases = []\n",
    "    for c in range(count):\n",
    "        numsegs = NPR.randint(minsegs,maxsegs+1)\n",
    "        v = gen_segmented_vector(vectorlen,numsegs)\n",
    "        case = [v,int_to_one_hot(numsegs,maxsegs-minsegs+1)] if poptargs else [v,numsegs]\n",
    "        cases.append(case)\n",
    "    return cases"
   ]
  },
  {
   "cell_type": "markdown",
   "metadata": {},
   "source": [
    "# PRIMITIVE DATA VIEWING"
   ]
  },
  {
   "cell_type": "code",
   "execution_count": null,
   "metadata": {},
   "outputs": [],
   "source": [
    "def segment_count(vect,onval=1,offval=0):\n",
    "    lastval = offval; count = 0\n",
    "    for elem in vect:\n",
    "        if elem == onval and lastval == offval: count += 1\n",
    "        lastval = elem\n",
    "    return count"
   ]
  },
  {
   "cell_type": "markdown",
   "metadata": {},
   "source": [
    ""
   ]
  },
  {
   "cell_type": "code",
   "execution_count": 3,
   "metadata": {},
   "outputs": [],
   "source": [
    "# This produces a string consisting of the binary vector followed by the segment count surrounded by a few symbols\n",
    "# and/or blanks.  These strings are useful to use as labels during dendrogram plots, for example.\n",
    "def segmented_vector_string(v,pre='** ',post=' **'):\n",
    "    def binit(vect): return map((lambda x: 1 if x > 0 else 0), vect)\n",
    "    return ''.join(map(str, binit(v))) + pre + str(segment_count(v)) + post"
   ]
  },
  {
   "cell_type": "markdown",
   "metadata": {},
   "source": [
    "# PRIMITIVE DATA VIEWING"
   ]
  },
  {
   "cell_type": "code",
   "execution_count": 4,
   "metadata": {},
   "outputs": [],
   "source": [
    "def show_results(grabbed_vals,grabbed_vars=None,dir='probeview'):\n",
    "    showvars(grabbed_vals,names = [x.name for x in grabbed_vars], msg=\"The Grabbed Variables:\")"
   ]
  },
  {
   "cell_type": "code",
   "execution_count": 5,
   "metadata": {},
   "outputs": [],
   "source": [
    "def showvars(vals,names=None,msg=\"\"):\n",
    "    print(\"\\n\"+msg,end=\"\\n\")\n",
    "    for i,v in enumerate(vals):\n",
    "        if names: print(\"   \" + names[i] + \" = \",end=\"\\n\")\n",
    "        print(v,end=\"\\n\\n\")"
   ]
  },
  {
   "cell_type": "code",
   "execution_count": 6,
   "metadata": {},
   "outputs": [],
   "source": [
    "# Very simple printing of a matrix using the 'style' format for each element.\n",
    "def pp_matrix(m,style='{:.3f}'):\n",
    "    rows, cols = m.shape\n",
    "    for r in range(rows):\n",
    "        print()  # skips to next line\n",
    "        for c in range(cols): print(style.format(m[r][c]), end=' ')\n",
    "    print()"
   ]
  },
  {
   "cell_type": "markdown",
   "metadata": {},
   "source": [
    "#  DATA PLOTTING ROUTINES "
   ]
  },
  {
   "cell_type": "code",
   "execution_count": 8,
   "metadata": {},
   "outputs": [],
   "source": [
    "def simple_plot(yvals,xvals=None,xtitle='X',ytitle='Y',title='Y = F(X)'):\n",
    "    xvals = xvals if xvals is not None else list(range(len(yvals)))\n",
    "    PLT.plot(xvals,yvals)\n",
    "    PLT.xlabel(xtitle); PLT.ylabel(ytitle); PLT.title(title)\n",
    "    PLT.draw()"
   ]
  },
  {
   "cell_type": "code",
   "execution_count": 9,
   "metadata": {},
   "outputs": [],
   "source": [
    "# Each history is a list of pairs (timestamp, value).\n",
    "def plot_training_history(error_hist,validation_hist=[],xtitle=\"Epoch\",ytitle=\"Error\",title=\"History\",fig=True):\n",
    "    PLT.ion()\n",
    "    if fig: PLT.figure()\n",
    "    if len(error_hist) > 0:\n",
    "        simple_plot([p[1] for p in error_hist], [p[0] for p in error_hist],xtitle=xtitle,ytitle=ytitle,title=title)\n",
    "        PLT.hold(True)\n",
    "    if len(validation_hist) > 0:\n",
    "        simple_plot([p[1] for p in validation_hist], [p[0] for p in validation_hist])\n",
    "    PLT.ioff()"
   ]
  },
  {
   "cell_type": "code",
   "execution_count": 10,
   "metadata": {},
   "outputs": [],
   "source": [
    "# alpha = transparency\n",
    "def simple_scatter_plot(points,alpha=0.5,radius=3):\n",
    "    colors = ['red','green','blue','magenta','brown','yellow','orange','brown','purple','black']\n",
    "    a = np.array(points).transpose()\n",
    "    PLT.scatter(a[0],a[1],c=colors,alpha=alpha,s=np.pi*radius**2)\n",
    "    PLT.draw()"
   ]
  },
  {
   "cell_type": "markdown",
   "metadata": {},
   "source": [
    "This is Hinton's classic plot of a matrix (which may represent snapshots of weights or a time series of activation values).  Each value is represented by a red (positive) or blue (negative) square whose size reflects the absolute value.  This works best when maxsize is hardwired to 1.  The transpose (trans) arg defaults to true so that matrices are plotted with rows along a horizontal plane, with the 0th row on top.\n",
    "\n",
    "The 'colors' argument, a list, is ordered as follows: background, positive-value, negative-value, box-edge. If you do not want to draw box edges, just use 'None' as the 4th color.  A gray-scale combination that mirrors Hinton's original version is ['gray','white','black',None]\n"
   ]
  },
  {
   "cell_type": "code",
   "execution_count": 12,
   "metadata": {},
   "outputs": [],
   "source": [
    "def hinton_plot(matrix, maxval=None, maxsize=1, fig=None,trans=True,scale=True, title='Hinton plot',\n",
    "                colors=['gray','red','blue','white']):\n",
    "    hfig = fig if fig else PLT.figure()\n",
    "    hfig.suptitle(title,fontsize=18)\n",
    "    if trans: matrix = matrix.transpose()\n",
    "    if maxval == None: maxval = np.abs(matrix).max()\n",
    "    if not maxsize: maxsize = 2**np.ceil(np.log(maxval)/np.log(2))\n",
    "\n",
    "    axes = hfig.gca()\n",
    "    axes.clear()\n",
    "    axes.patch.set_facecolor(colors[0]);  # This is the background color.  Hinton uses gray\n",
    "    axes.set_aspect('auto','box')  # Options: ('equal'), ('equal','box'), ('auto'), ('auto','box')..see matplotlib docs\n",
    "    axes.xaxis.set_major_locator(PLT.NullLocator()); axes.yaxis.set_major_locator(PLT.NullLocator())\n",
    "\n",
    "    ymax = (matrix.shape[1] - 1)* maxsize\n",
    "    for (x, y), val in np.ndenumerate(matrix):\n",
    "        color = colors[1] if val > 0 else colors[2]  # Hinton uses white = pos, black = neg\n",
    "        if scale: size = max(0.01,np.sqrt(min(maxsize,maxsize*np.abs(val)/maxval)))\n",
    "        else: size = np.sqrt(min(np.abs(val),maxsize))  # The original version did not include scaling\n",
    "        bottom_left = [x - size / 2, (ymax - y) - size / 2] # (ymax - y) to invert: row 0 at TOP of diagram\n",
    "        blob = PLT.Rectangle(bottom_left, size, size, facecolor=color, edgecolor=colors[3])\n",
    "        axes.add_patch(blob)\n",
    "    axes.autoscale_view()\n",
    "    PLT.draw()\n",
    "    PLT.pause(.001)"
   ]
  },
  {
   "cell_type": "markdown",
   "metadata": {},
   "source": [
    "This graphically displays a matrix with color codes for positive, negative, small positive and small negative, with the latter 2 defined by the 'cutoff' argument.  The transpose (trans) arg defaults to True so that matrices are plotted with rows along a horizontal plane, with the 0th row on top. Colors denote: [positive, small positive, small negative, negative]"
   ]
  },
  {
   "cell_type": "code",
   "execution_count": 13,
   "metadata": {},
   "outputs": [],
   "source": [
    "def display_matrix(matrix,fig=None,trans=True,scale=True, title='Matrix',tform='{:.3f}',tsize=12,\n",
    "                   cutoff=0.1,colors=['red','yellow','grey','blue']):\n",
    "    hfig = fig if fig else PLT.figure()\n",
    "    hfig.suptitle(title,fontsize=18)\n",
    "    if trans: matrix = matrix.transpose()\n",
    "    axes = hfig.gca()\n",
    "    axes.clear()\n",
    "    axes.patch.set_facecolor('white');  # This is the background color.  Hinton uses gray\n",
    "    axes.set_aspect('auto','box')  # Options: ('equal'), ('equal','box'), ('auto'), ('auto','box')..see matplotlib docs\n",
    "    axes.xaxis.set_major_locator(PLT.NullLocator()); axes.yaxis.set_major_locator(PLT.NullLocator())\n",
    "\n",
    "    ymax = matrix.shape[1] - 1\n",
    "    for (x, y), val in np.ndenumerate(matrix):\n",
    "        if val > 0: color = colors[0] if val > cutoff else colors[1]\n",
    "        else: color = colors[3] if val < -cutoff else colors[2]\n",
    "        botleft = [x - 1/2, (ymax - y) - 1/2] # (ymax - y) to invert: row 0 at TOP of diagram\n",
    "        # This is a hack, but I seem to need to add these blank blob rectangles first, and then I can add the text\n",
    "        # boxes.  If I omit the blobs, I get just one plotted textbox...grrrrrr.\n",
    "        blob = PLT.Rectangle(botleft, 1,1, facecolor='white',edgecolor='white')\n",
    "        axes.add_patch(blob)\n",
    "        axes.text(botleft[0]+0.5,botleft[1]+0.5,tform.format(val),\n",
    "                  bbox=dict(facecolor=color,alpha=0.5,edgecolor='white'),ha='center',va='center',\n",
    "                  color='black',size=tsize)\n",
    "    axes.autoscale_view()\n",
    "    PLT.draw()\n",
    "    PLT.pause(1)"
   ]
  },
  {
   "cell_type": "markdown",
   "metadata": {},
   "source": [
    "# Principle Component Analysis (PCA)\n",
    "This performs the basic operations outlined in \"Python Machine Learning\" (pp.128-135).  It begins with\n",
    "an N x K array whose rows are cases and columns are features.  It then computes the covariance matrix (of features),\n",
    "which is then used to compute the eigenvalues and eigenvectors.  The eigenvectors corresponding to the largest\n",
    "(absolute value) eigenvalues are then combined to produce a transformation matrix, which is applied to the original\n",
    "N cases to produce N new cases, each with J (ideally J << K) features.  This is UNSUPERVISED dimension reduction.\n"
   ]
  },
  {
   "cell_type": "code",
   "execution_count": 14,
   "metadata": {},
   "outputs": [],
   "source": [
    "def pca(features,target_size,bias=True,rowvar=False):\n",
    "    farray = features if isinstance(features,np.ndarray) else np.array(features)\n",
    "    cov_mat = np.cov(farray,rowvar=rowvar,bias=bias) # rowvar=False => each var's values are in a COLUMN.\n",
    "    eigen_vals, eigen_vecs = np.linalg.eig(cov_mat)\n",
    "    return gen_dim_reduced_data(farray,target_size,eigen_vals, eigen_vecs)"
   ]
  },
  {
   "cell_type": "markdown",
   "metadata": {},
   "source": [
    "Use the highest magnitude eigenvalues (and their eigenvectors) as the basis for feature-vector transformations that reduce the dimensionality of the data.  feature_array is N x M, where \n",
    "\tN = # cases \n",
    "\tM = # features\n"
   ]
  },
  {
   "cell_type": "code",
   "execution_count": 15,
   "metadata": {},
   "outputs": [],
   "source": [
    "def gen_dim_reduced_data(feature_array,target_size,eigen_values,eigen_vectors):\n",
    "    eigen_pairs = [(np.abs(eigen_values[i]),eigen_vectors[:,i]) for i in range(len(eigen_values))]\n",
    "    eigen_pairs.sort(key=(lambda p: p[0]),reverse=True)  # Sorts tuples by their first element = abs(eigenvalue)\n",
    "    best_vectors = [pair[1] for pair in eigen_pairs[ : target_size]]\n",
    "    w_transform = np.array(best_vectors).transpose()\n",
    "    return np.dot(feature_array,w_transform)"
   ]
  },
  {
   "cell_type": "markdown",
   "metadata": {},
   "source": [
    "# DENDROGRAM"
   ]
  },
  {
   "cell_type": "code",
   "execution_count": 16,
   "metadata": {},
   "outputs": [],
   "source": [
    "# Options:\n",
    "# orientation = top, bottom, left, right (refers to location of the root of the tree)\n",
    "# mode = single, average, complete, centroid, ward, median\n",
    "# metric = euclidean, cityblock (manhattan), hamming, cosine, correlation ... (see matplotlib distance.pdist for all 23)\n",
    "def dendrogram(features,labels,metric='euclidean',mode='average',ax=None,title='Dendrogram',orient='top',lrot=90.0):\n",
    "    ax = ax if ax else PLT.gca()\n",
    "    cluster_history = SCH.linkage(features,method=mode,metric=metric)\n",
    "    SCH.dendrogram(cluster_history,labels=labels,orientation=orient,leaf_rotation=lrot)\n",
    "    PLT.tight_layout()\n",
    "    ax.set_title(title)\n",
    "    ax.set_ylabel(metric + ' distance')\n",
    "    PLT.show()"
   ]
  },
  {
   "cell_type": "code",
   "execution_count": null,
   "metadata": {},
   "outputs": [],
   "source": [
    ""
   ]
  }
 ],
 "metadata": {
  "kernelspec": {
   "display_name": "Python 2",
   "language": "python",
   "name": "python2"
  },
  "language_info": {
   "codemirror_mode": {
    "name": "ipython",
    "version": 2.0
   },
   "file_extension": ".py",
   "mimetype": "text/x-python",
   "name": "python",
   "nbconvert_exporter": "python",
   "pygments_lexer": "ipython2",
   "version": "2.7.6"
  }
 },
 "nbformat": 4,
 "nbformat_minor": 0
}