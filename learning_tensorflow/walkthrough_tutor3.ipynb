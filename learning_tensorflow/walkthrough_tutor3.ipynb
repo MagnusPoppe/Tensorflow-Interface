{
 "cells": [
  {
   "cell_type": "markdown",
   "metadata": {
    "collapsed": true
   },
   "source": [
    "# Tutorials i TensorFlow fra Kieth Downing\n",
    "## Sett 3, General Artificial Neural Network (GANN)\n",
    "\n",
    "Hele denne strukturen er objektorientert. Gann består av tre klasser:\n",
    "\n",
    "1. Gann\t(The main network with all configurations).\n",
    "2. GannModule (A layer in a neural net)\n",
    "3. Caseman (Case manager)\n",
    "\n",
    "Denne gjennomgangen går igjennom de forskjellige klassene, metode for metode.\n"
   ]
  },
  {
   "cell_type": "code",
   "execution_count": 1,
   "metadata": {},
   "outputs": [],
   "source": [
    "import math\n",
    "import matplotlib.pyplot as PLT\n",
    "import numpy as np\n",
    "import tensorflow as tf\n",
    "from downing_code import tflowtools as TFT"
   ]
  },
  {
   "cell_type": "markdown",
   "metadata": {
    "collapsed": true
   },
   "source": [
    "## Gann(): General Artificial Neural Network\n",
    "I ``__init__()`` metoden er det hovedsakelig kun parametere som blir satt. Alle parametere er enten for output eller for å bygge nettet. Metoden ender med et kall på __\"build()\"__ som bygger opp selve nettet."
   ]
  },
  {
   "cell_type": "code",
   "execution_count": 2,
   "metadata": {},
   "outputs": [],
   "source": [
    "def __init__(self, dims, cman,lrate=.1,showint=None,mbs=10,vint=None,softmax=False):\n",
    "        self.learning_rate = lrate\n",
    "        self.layer_sizes = dims # Sizes of each layer of neurons\n",
    "        self.show_interval = showint # Frequency of showing grabbed variables\n",
    "        self.global_training_step = 0 # Enables coherent data-storage during extra training runs (see runmore).\n",
    "        self.grabvars = []  # Variables to be monitored (by gann code) during a run.\n",
    "        self.grabvar_figures = [] # One matplotlib figure for each grabvar\n",
    "        self.minibatch_size = mbs\n",
    "        self.validation_interval = vint\n",
    "        self.validation_history = []\n",
    "        self.caseman = cman\n",
    "        self.softmax_outputs = softmax\n",
    "        self.modules = []\n",
    "        self.build()"
   ]
  },
  {
   "cell_type": "code",
   "execution_count": 5,
   "metadata": {},
   "outputs": [],
   "source": [
    "def build(self):\n",
    "    tf.reset_default_graph()  # This is essential for doing multiple runs!!\n",
    "    num_inputs = self.layer_sizes[0]\n",
    "    self.input = tf.placeholder(tf.float64, shape=(None, num_inputs), name='Input')\n",
    "    \n",
    "    invar = self.input\n",
    "    insize = num_inputs\n",
    "    \n",
    "    # Build all of the modules\n",
    "    for i,outsize in enumerate(self.layer_sizes[1:]):\n",
    "        gmod = Gannmodule(self,i,invar,insize,outsize)\n",
    "        invar = gmod.output\n",
    "        insize = gmod.outsize\n",
    "        \n",
    "    self.output = gmod.output # Output of last module is output of whole network\n",
    "    if self.softmax_outputs: self.output = tf.nn.softmax(self.output)\n",
    "    self.target = tf.placeholder(tf.float64,shape=(None,gmod.outsize),name='Target')\n",
    "    self.configure_learning()"
   ]
  },
  {
   "cell_type": "markdown",
   "metadata": {},
   "source": [
    "Nettet bygges opp i ``build()`` metoden vist under. Denne metoden er ment til å være generalisert for å kunne lage et nett av ønskede dimensjoner. Dimensjonene kommer da fra ``__init__()`` metoden.\n",
    "\n",
    "Input er en tf.placeholder() som vanlig. Det som er interressant med den er at den er 2-dimensjonal. Den holder på en ``shape=(None, num_inputs)``. Når en av dimensjonene i shape er satt til å være \"None\" betyr dette at den er av ukjent dimensjon. Den kan da altså ha en ukjent mengde rader.\n",
    "\n",
    "#### Digresjon: Litt om Gann Module\n",
    "![modell](https://github.com/MagnusPoppe/Tensorflow-Interface/blob/master/GannModule.png?raw=true)\n",
    "\n",
    "GannModule er et lag i nettet. Dette er definert med at det har vektene som kommer før seg selv og utverdien (som blir selve laget). Den kjenner også til innverdien som kommer før vektene. \n",
    "\n",
    "Fokuset på Gann modulen er dermed selve vekt-laget. Den kjenner også til hva som kommer inn- og hva som kommer ut. Det som kommer ut er definert med 2 verdier, utverdien (en operator) og størrelsen på output\n",
    "\n",
    "En løkke for å bygge opp de forskjellige modulene (lagene) i nettet kommer så:"
   ]
  },
  {
   "cell_type": "code",
   "execution_count": 7,
   "metadata": {},
   "outputs": [
    {
     "ename": "NameError",
     "evalue": "name 'self' is not defined",
     "traceback": [
      "\u001b[0;31m---------------------------------------------------------------------------\u001b[0m",
      "\u001b[0;31mNameError\u001b[0m                                 Traceback (most recent call last)",
      "\u001b[0;32m<ipython-input-7-4e173ec8689b>\u001b[0m in \u001b[0;36m<module>\u001b[0;34m()\u001b[0m\n\u001b[0;32m----> 1\u001b[0;31m \u001b[0minvar\u001b[0m \u001b[0;34m=\u001b[0m \u001b[0mself\u001b[0m\u001b[0;34m.\u001b[0m\u001b[0minput\u001b[0m\u001b[0;34m\u001b[0m\u001b[0m\n\u001b[0m\u001b[1;32m      2\u001b[0m \u001b[0minsize\u001b[0m \u001b[0;34m=\u001b[0m \u001b[0mnum_inputs\u001b[0m\u001b[0;34m\u001b[0m\u001b[0m\n\u001b[1;32m      3\u001b[0m \u001b[0;34m\u001b[0m\u001b[0m\n\u001b[1;32m      4\u001b[0m \u001b[0;31m# Build all of the modules\u001b[0m\u001b[0;34m\u001b[0m\u001b[0;34m\u001b[0m\u001b[0m\n\u001b[1;32m      5\u001b[0m \u001b[0;32mfor\u001b[0m \u001b[0mi\u001b[0m\u001b[0;34m,\u001b[0m\u001b[0moutsize\u001b[0m \u001b[0;32min\u001b[0m \u001b[0menumerate\u001b[0m\u001b[0;34m(\u001b[0m\u001b[0mself\u001b[0m\u001b[0;34m.\u001b[0m\u001b[0mlayer_sizes\u001b[0m\u001b[0;34m[\u001b[0m\u001b[0;36m1\u001b[0m\u001b[0;34m:\u001b[0m\u001b[0;34m]\u001b[0m\u001b[0;34m)\u001b[0m\u001b[0;34m:\u001b[0m\u001b[0;34m\u001b[0m\u001b[0m\n",
      "\u001b[0;31mNameError\u001b[0m: name 'self' is not defined"
     ],
     "output_type": "error"
    }
   ],
   "source": [
    "invar = self.input\n",
    "insize = num_inputs\n",
    "\n",
    "# Build all of the modules\n",
    "for i,outsize in enumerate(self.layer_sizes[1:]):\n",
    "    gmod = Gannmodule(self,i,invar,insize,outsize)\n",
    "    invar = gmod.output\n",
    "    insize = gmod.outsize"
   ]
  },
  {
   "cell_type": "markdown",
   "metadata": {},
   "source": [
    "Før løkken defineres de initielle verdiene som trengs ved første kjøring. Disse er da følgende: \n",
    "- __invar__: En inn-variabel. For GannModule blir dette forrige lag, eller da laget før vektmatrisen.\n",
    "- __insize__: Dimensjonen på innvariabelen. Denne kan da kun være 1dimensjonal. \n",
    "\n",
    "Løkken kjører så, og lager modul for modul (eller lag for lag). For hver runde i løkken lages først laget, så erstattes invar og inside med det som ble output av det forrige laget. Dette er hele oppbyggingen av hvert lag.\n",
    "\n",
    "Etter løkken lagres den endelige output modulen. Hvis soft-max outputs er ønsket blir disse også lagret. Læringen blir så konfigurert. \n"
   ]
  },
  {
   "cell_type": "code",
   "execution_count": 8,
   "metadata": {},
   "outputs": [],
   "source": [
    "def configure_learning(self):\n",
    "    self.error = tf.reduce_mean(tf.square(self.target - self.output),name='MSE')\n",
    "    self.predictor = self.output  # Simple prediction runs will request the value of output neurons\n",
    "    \n",
    "    # Defining the training operator\n",
    "    optimizer = tf.train.GradientDescentOptimizer(self.learning_rate)\n",
    "    self.trainer = optimizer.minimize(self.error,name='Backprop')"
   ]
  },
  {
   "cell_type": "markdown",
   "metadata": {},
   "source": [
    "I configure learning settes errorfunksjonen og predictor (som brukes ved testing). Han definerer også optimeringsfunskjonen og lagrer dette."
   ]
  },
  {
   "cell_type": "markdown",
   "metadata": {},
   "source": [
    "# Trening - og Testingsfunkjsonen er lik som tidligere. Det resterende er for det meste kjøring av GANN og ikke noe man trenger gå igjennom her. "
   ]
  }
 ],
 "metadata": {
  "kernelspec": {
   "display_name": "Python 2",
   "language": "python",
   "name": "python2"
  },
  "language_info": {
   "codemirror_mode": {
    "name": "ipython",
    "version": 2.0
   },
   "file_extension": ".py",
   "mimetype": "text/x-python",
   "name": "python",
   "nbconvert_exporter": "python",
   "pygments_lexer": "ipython2",
   "version": "2.7.6"
  }
 },
 "nbformat": 4,
 "nbformat_minor": 0
}