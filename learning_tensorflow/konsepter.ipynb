{
 "cells": [
  {
   "cell_type": "markdown",
   "metadata": {
    "collapsed": true
   },
   "source": [
    ""
   ]
  },
  {
   "cell_type": "code",
   "execution_count": 10,
   "metadata": {},
   "outputs": [
    {
     "name": "stdout",
     "output_type": "stream",
     "text": [
      "X: [1 2 3 4 5]\n\nK: [10 20 30 40 50]\n\nL: [11 22 33 44 55]\n\n\nX: [ 2  4  6  8 10]\n\nK: [ 20  40  60  80 100]\n\nL: [ 22  44  66  88 110]\n\n\nX: [ 3  6  9 12 15]\n\nK: [ 30  60  90 120 150]\n\nL: [ 33  66  99 132 165]\n\n\nX: [ 4  8 12 16 20]\n\nK: [ 40  80 120 160 200]\n\nL: [ 44  88 132 176 220]\n\n\nX: [ 5 10 15 20 25]\n\nK: [ 50 100 150 200 250]\n\nL: [ 55 110 165 220 275]\n\n\n"
     ]
    }
   ],
   "source": [
    "import tensorflow as tf\n",
    "\n",
    "x = tf.Variable(0, name=\"x\")\n",
    "k = tf.Variable(0, name=\"k\")\n",
    "y = tf.placeholder(tf.int32, name=\"y\")\n",
    "z = tf.placeholder(tf.int32, name=\"z\")\n",
    "\n",
    "feeder = {y: [1, 2, 3, 4, 5], z: [10, 20, 30, 40, 50]}\n",
    "\n",
    "session = tf.Session()\n",
    "session.run(tf.global_variables_initializer())\n",
    "\n",
    "for i in range(5):\n",
    "    x = x + y\n",
    "    k = k + z\n",
    "    l = x + k\n",
    "    xr, kr, lr = (session.run([x, k, l], feed_dict=feeder))\n",
    "    \n",
    "    print(\"X: \"+str(xr)+\"\\n\")\n",
    "    print(\"K: \"+str(kr)+\"\\n\")\n",
    "    print(\"L: \"+str(lr)+\"\\n\\n\")"
   ]
  },
  {
   "cell_type": "markdown",
   "metadata": {},
   "source": [
    "### Konklusjon:\n",
    "Hele datasettet inni \"feed_dict\" gjennomgås per gang run blir kalt. Disse mates i samlet sekvens. \n",
    "\n",
    "Som eksempel: \n",
    "```\n",
    "{x:[1, 2], y:[3, 4]}\n",
    "```\n",
    "Første runde er x=1 og y=3. Andre runde er x=2 og y=4. alle \"runder\" skjer når man kaller på session.run()"
   ]
  },
  {
   "cell_type": "code",
   "execution_count": null,
   "metadata": {},
   "outputs": [],
   "source": [
    ""
   ]
  }
 ],
 "metadata": {
  "kernelspec": {
   "display_name": "Python 2",
   "language": "python",
   "name": "python2"
  },
  "language_info": {
   "codemirror_mode": {
    "name": "ipython",
    "version": 2.0
   },
   "file_extension": ".py",
   "mimetype": "text/x-python",
   "name": "python",
   "nbconvert_exporter": "python",
   "pygments_lexer": "ipython2",
   "version": "2.7.6"
  }
 },
 "nbformat": 4,
 "nbformat_minor": 0
}