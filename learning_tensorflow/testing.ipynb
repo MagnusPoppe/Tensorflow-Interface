{
 "cells": [
  {
   "cell_type": "markdown",
   "metadata": {},
   "source": [
    "# Tutorials i TensorFlow fra Kieth Downing"
   ]
  },
  {
   "cell_type": "code",
   "execution_count": 1,
   "metadata": {},
   "outputs": [],
   "source": [
    "from downing_code import tflowtools as TFT\n",
    "from downing_code import tutor1, tutor2, tutor3"
   ]
  },
  {
   "cell_type": "markdown",
   "metadata": {},
   "source": [
    "### Tutorial example 1:\n",
    "Lager en multiplikasjon mellom 2 konstanter. Konstanter trenger ikke å initialiseres. Session kan dermed bli kjørt enkelt. Multiplikasjonen blir ikke egentlig utført før kallet til session.run(z)."
   ]
  },
  {
   "cell_type": "code",
   "execution_count": 3,
   "metadata": {},
   "outputs": [
    {
     "data": {
      "text/plain": [
       "10"
      ]
     },
     "execution_count": 3,
     "metadata": {},
     "output_type": "execute_result"
    }
   ],
   "source": [
    "tutor1.tfex1(5, 2)"
   ]
  },
  {
   "cell_type": "markdown",
   "metadata": {},
   "source": [
    "### Tutorial example 2:\n",
    "Dettte eksempelet gjør det samme som tfex1 over, men med variabler istedenfor konstaner. \n",
    "\n",
    "Variabler må initialisers før kallet til session.run(). Variablene får sin verdi tildelt ved kallet til initialize. Det går ikke å gjøre session uten initialiseringen. "
   ]
  },
  {
   "cell_type": "code",
   "execution_count": 4,
   "metadata": {
    "collapsed": true
   },
   "outputs": [
    {
     "data": {
      "text/plain": [
       "10"
      ]
     },
     "execution_count": 4,
     "metadata": {},
     "output_type": "execute_result"
    }
   ],
   "source": [
    "tutor1.tfex2(5, 2)"
   ]
  },
  {
   "cell_type": "markdown",
   "metadata": {},
   "source": [
    "### Tutorial example 3A\n",
    "Eksempelet lager 2 matriser, matrise Y og matrise Y.\n",
    "\n",
    "X er en 2 dimensjonal matrise på 3x5. Den er fylt med tilfeldige verdier mellom 0 og 1.\n",
    "\n",
    "Y er også en 2D matrise men på 5x1. Denne er fylt med tilfeldige verdier mellom 10 og 20.\n",
    "\n",
    "NumPY order uniforme verdier i de forskjellige cellene.\n",
    "\n",
    "tensorflow.matmul(x, y) utfører matrisemultiplikasjon (matmul = matrix multiplication).\n",
    "\n",
    "Verdiene i de to matrisene blir ikke lagt inn før initialiserings kallet gjøres. Det samme gjelder tf.matmul(x,y). Denne er kun operasjonen. "
   ]
  },
  {
   "cell_type": "code",
   "execution_count": 5,
   "metadata": {
    "collapsed": true
   },
   "outputs": [
    {
     "name": "stdout",
     "output_type": "stream",
     "text": [
      "\n\n[ 31.9515419]\n\n[ 36.18543984]\n\n[ 45.86372549]\n\n"
     ]
    }
   ],
   "source": [
    "tutor1.tfex3()"
   ]
  },
  {
   "cell_type": "markdown",
   "metadata": {},
   "source": [
    "### Tutorial example 3B\n",
    "Eksempelet betsår av 3 matriser , W(3x5), X(5x1) og Y(3x1). Det er også 2 operatorer, z1, en matrisemultiplikasjon og z2, en addisjon mellom matriser. \n",
    "\n",
    "Igjen så skjer det ingenting før variablene initialiseres. \n",
    "\n",
    "Her blir det også sendt med 3 operatorer inn i quickrun, som en liste. Dette gjør at det blir skrevet ut alle tre operatorene. hver av disse kjøres også gjennom session.run()."
   ]
  },
  {
   "cell_type": "code",
   "execution_count": 6,
   "metadata": {
    "collapsed": true
   },
   "outputs": [
    {
     "name": "stdout",
     "output_type": "stream",
     "text": [
      "\n\n[[ 0.00589087  0.35233849  0.80138443  0.90234664  0.3594748 ]\n [ 0.72015095  0.01600925  0.8308303   0.37128482  0.76654004]\n [ 0.88500683  0.31003289  0.71498322  0.63914779  0.63473571]]\n\n[[ 39.65275148]\n [ 45.29110877]\n [ 52.1993477 ]]\n\n[[ 145.53160447]\n [ 147.52591273]\n [ 155.96423725]]\n\n"
     ]
    }
   ],
   "source": [
    "tutor1.tfex3b()"
   ]
  },
  {
   "cell_type": "markdown",
   "metadata": {},
   "source": [
    "### Tutorial example 4\n",
    "Dette eksempelet dreier se gom å sette verdier til variabler. Her skjer det et par interessante ting. \n",
    "\n",
    "1. X2 settes til X1 sin verdi når X1 har blitt tildelt en verdi i realtime. tf.Variable().initialized_value() returnerer verdien en gitt variabel har på et gitt punkt i tid. Siden variabler alltid endrer verdier ettersom tensorflow kjører er dette en viktig funksjon. Det er slik man gir en variabel verdien til en annen variabel.\n",
    "2. Assign setter en ny verdi til denne variabelen. Dette betyr at verdien X2 hadde når x.initialized_value() ble kalt blir overskrevet med en gang. Assignen inneholder også en matrise addisjon."
   ]
  },
  {
   "cell_type": "code",
   "execution_count": 7,
   "metadata": {
    "collapsed": true
   },
   "outputs": [
    {
     "name": "stdout",
     "output_type": "stream",
     "text": [
      "\n\n[[ 1.53951777]\n [ 1.1416361 ]\n [ 1.08682182]\n [ 1.59693465]\n [ 1.52754636]]\n\n[[ 119.79736332]\n [ 172.51124558]\n [ 198.13301835]\n [ 102.2765412 ]\n [ 110.10448866]]\n\n"
     ]
    }
   ],
   "source": [
    "tutor1.tfex4()"
   ]
  },
  {
   "cell_type": "markdown",
   "metadata": {},
   "source": [
    "# Tutorial example 5A & 5B\n",
    "Begge disse eksemplene går ut på å vise tensorboard. Operasjoenene utenom er sett over. "
   ]
  },
  {
   "cell_type": "code",
   "execution_count": 8,
   "metadata": {
    "collapsed": true
   },
   "outputs": [
    {
     "name": "stdout",
     "output_type": "stream",
     "text": [
      "\nThe Grabbed Variables:\n   w_1:0 = \n[[ 0.76271803  0.48860902  0.20096841  0.34768618  0.54723202]\n [ 0.20779416  0.28589641  0.10170639  0.93201282  0.603252  ]\n [ 0.24861456  0.1689891   0.91551501  0.87749793  0.17439887]]\n\n   x_4:0 = \n[[ 17.86522675]\n [ 14.16850353]\n [ 15.62922618]\n [ 12.54009733]\n [ 18.67436464]]\n\n   y_3:0 = \n[[ 105.1854695 ]\n [ 104.30994772]\n [ 108.83567732]]\n\n"
     ]
    },
    {
     "data": {
      "text/plain": [
       "[[array([[ 143.45466827],\n         [ 136.61543339],\n         [ 144.24104419]])],\n [array([[ 0.76271803,  0.48860902,  0.20096841,  0.34768618,  0.54723202],\n         [ 0.20779416,  0.28589641,  0.10170639,  0.93201282,  0.603252  ],\n         [ 0.24861456,  0.1689891 ,  0.91551501,  0.87749793,  0.17439887]]),\n  array([[ 17.86522675],\n         [ 14.16850353],\n         [ 15.62922618],\n         [ 12.54009733],\n         [ 18.67436464]]),\n  array([[ 105.1854695 ],\n         [ 104.30994772],\n         [ 108.83567732]])]]"
      ]
     },
     "execution_count": 8,
     "metadata": {},
     "output_type": "execute_result"
    }
   ],
   "source": [
    "tutor1.tfex5()"
   ]
  },
  {
   "cell_type": "code",
   "execution_count": 9,
   "metadata": {
    "collapsed": true
   },
   "outputs": [
    {
     "name": "stdout",
     "output_type": "stream",
     "text": [
      "\nThe Grabbed Variables:\n   w_2:0 = \n[[ 0.3101715   0.33703634  0.13702168  0.53572712  0.60111179]\n [ 0.10720767  0.26827591  0.68142487  0.03461809  0.6211281 ]\n [ 0.31441514  0.48707083  0.98680623  0.22287919  0.04733943]]\n\n   x_5:0 = \n[[ 13.31846091]\n [ 10.00896066]\n [ 12.16447714]\n [ 10.00242071]\n [ 11.12579479]]\n\n   y_4:0 = \n[[ 105.87772002]\n [ 104.8774355 ]\n [ 104.06418048]]\n\n"
     ]
    },
    {
     "data": {
      "text/plain": [
       "[[array([[ 127.0953219 ],\n         [ 124.53642537],\n         [ 127.8867811 ]])],\n [array([[ 0.3101715 ,  0.33703634,  0.13702168,  0.53572712,  0.60111179],\n         [ 0.10720767,  0.26827591,  0.68142487,  0.03461809,  0.6211281 ],\n         [ 0.31441514,  0.48707083,  0.98680623,  0.22287919,  0.04733943]]),\n  array([[ 13.31846091],\n         [ 10.00896066],\n         [ 12.16447714],\n         [ 10.00242071],\n         [ 11.12579479]]),\n  array([[ 105.87772002],\n         [ 104.8774355 ],\n         [ 104.06418048]])]]"
      ]
     },
     "execution_count": 9,
     "metadata": {},
     "output_type": "execute_result"
    }
   ],
   "source": [
    "tutor1.tfex5b()"
   ]
  },
  {
   "cell_type": "markdown",
   "metadata": {},
   "source": [
    "# Tutorial example 6\n",
    "Her introduseres feeder dict. En feeder dict mater inn verdier inn i en placeholder. Hver placeholder som er nevnt i feeder_dicten blir matet med alle sine verdier når dette kjøres."
   ]
  },
  {
   "cell_type": "code",
   "execution_count": 10,
   "metadata": {
    "collapsed": true
   },
   "outputs": [
    {
     "name": "stdout",
     "output_type": "stream",
     "text": [
      "\nThe Grabbed Variables:\n   w_3:0 = \n[[ 0.11646402  0.41471294  0.50016077  0.66767794  0.60864888]\n [ 0.83845473  0.69484337  0.52754857  0.47951485  0.711566  ]\n [ 0.00877206  0.86334048  0.54663332  0.99742505  0.01522085]]\n\n   x_6:0 = \n[[ 19.80315805]\n [ 11.78785937]\n [ 12.23336879]\n [ 11.89758964]\n [ 15.75349441]]\n\n   y_5:0 = \n[[ 109.21999838]\n [ 104.5400199 ]\n [ 106.19971684]]\n\n"
     ]
    },
    {
     "data": {
      "text/plain": [
       "[[array([[ 140.06568762],\n         [ 152.70320544],\n         [ 135.34427008]])],\n [array([[ 0.11646402,  0.41471294,  0.50016077,  0.66767794,  0.60864888],\n         [ 0.83845473,  0.69484337,  0.52754857,  0.47951485,  0.711566  ],\n         [ 0.00877206,  0.86334048,  0.54663332,  0.99742505,  0.01522085]]),\n  array([[ 19.80315805],\n         [ 11.78785937],\n         [ 12.23336879],\n         [ 11.89758964],\n         [ 15.75349441]]),\n  array([[ 109.21999838],\n         [ 104.5400199 ],\n         [ 106.19971684]])]]"
      ]
     },
     "execution_count": 10,
     "metadata": {},
     "output_type": "execute_result"
    }
   ],
   "source": [
    "tutor1.tfex6()"
   ]
  },
  {
   "cell_type": "markdown",
   "metadata": {},
   "source": [
    "# Tutorial example 7\n",
    "Her er feed dict i bruk sammen med en løkke. Operasjonen som utføres hver gang run blir kalt er \"update x\". Denne gir x verdien til en matrisemultiplikasjon + y. Dette gjøres for alle verdier i feed_dict for hver kjøring. \n",
    "\n",
    "En annen ting å merke seg her er at dette er interasksjonen mellom et input (x) variabel, et hidden layer (w=weights) og en output variabel (y).\n",
    "\n",
    "Utføringen av dette ser slik ut: \n",
    "\n",
    "![Modell](../Modell.png)\n",
    "\n"
   ]
  },
  {
   "cell_type": "code",
   "execution_count": 2,
   "metadata": {
    "collapsed": true
   },
   "outputs": [
    {
     "name": "stdout",
     "output_type": "stream",
     "text": [
      "\nThe Grabbed Variables:\n   w:0 = \n[[-0.26144401  0.89451779  0.35937793  0.02727934 -0.44368184]\n [ 0.77072806 -0.10670939 -0.79251774  0.92554175 -0.67642648]\n [ 0.30342753 -0.92083488  0.52433145  0.91759257  0.34860253]\n [-0.6384351  -0.77870257 -0.01905593  0.42464578  0.51387439]\n [ 0.42224634 -0.30043967  0.14030107  0.15590419 -0.8134573 ]]\n\n   x:0 = \n[[ 0.32225008  0.61438033 -0.93094689 -0.22903236  0.83344275]]\n\n   y:0 = \n[[ 0.32225008  0.61438033 -0.93094689 -0.22903236  0.83344275]]\n\n\nThe Grabbed Variables:\n   x:0 = \n[[ 0.92718541  1.62227579 -1.66887204 -0.4731573  -0.84531127]]\n\n\nThe Grabbed Variables:\n   x:0 = \n[[ 0.76894539  3.42982154 -2.86804299 -0.56631178 -0.81257471]]\n\n\nThe Grabbed Variables:\n   x:0 = \n[[ 1.91287702  4.26233363 -4.97981795 -0.03247365 -2.45757181]]\n\n\nThe Grabbed Variables:\n   x:0 = \n[[ 0.5792577   7.21988126 -6.57673243 -1.19826211 -2.65195618]]\n\n\nThe Grabbed Variables:\n   x:0 = \n[[  3.38504378   8.14803475 -10.24228438  -0.48797789  -5.05845092]]\n\n"
     ]
    }
   ],
   "source": [
    "tutor1.tfex7()"
   ]
  }
 ],
 "metadata": {
  "kernelspec": {
   "display_name": "Python 2",
   "language": "python",
   "name": "python2"
  },
  "language_info": {
   "codemirror_mode": {
    "name": "ipython",
    "version": 2.0
   },
   "file_extension": ".py",
   "mimetype": "text/x-python",
   "name": "python",
   "nbconvert_exporter": "python",
   "pygments_lexer": "ipython2",
   "version": "2.7.6"
  }
 },
 "nbformat": 4,
 "nbformat_minor": 0
}